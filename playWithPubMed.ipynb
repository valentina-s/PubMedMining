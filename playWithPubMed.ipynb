{
 "cells": [
  {
   "cell_type": "code",
   "execution_count": 1,
   "metadata": {
    "collapsed": false
   },
   "outputs": [],
   "source": [
    "% run pubmedplay.py"
   ]
  },
  {
   "cell_type": "code",
   "execution_count": 2,
   "metadata": {
    "collapsed": true
   },
   "outputs": [],
   "source": [
    "% matplotlib inline"
   ]
  },
  {
   "cell_type": "code",
   "execution_count": 4,
   "metadata": {
    "collapsed": false
   },
   "outputs": [
    {
     "name": "stdout",
     "output_type": "stream",
     "text": [
      "Enter the term of interest:disorder\n"
     ]
    }
   ],
   "source": [
    "term = raw_input('Enter the term of interest:')"
   ]
  },
  {
   "cell_type": "code",
   "execution_count": 7,
   "metadata": {
    "collapsed": false
   },
   "outputs": [],
   "source": [
    "# default name\n",
    "if term == \"\":\n",
    "    term = \"disorder\""
   ]
  },
  {
   "cell_type": "markdown",
   "metadata": {},
   "source": [
    "#### Extract associated articles:"
   ]
  },
  {
   "cell_type": "code",
   "execution_count": 8,
   "metadata": {
    "collapsed": false
   },
   "outputs": [],
   "source": [
    "results = search(term,500)\n",
    "id_list = results['IdList']\n",
    "papers = fetch_details(id_list)"
   ]
  },
  {
   "cell_type": "markdown",
   "metadata": {},
   "source": [
    "#### Extract paper abstracts:"
   ]
  },
  {
   "cell_type": "code",
   "execution_count": 9,
   "metadata": {
    "collapsed": true
   },
   "outputs": [],
   "source": [
    "listOfAbstracts = []\n",
    "for paper in papers:\n",
    "    if 'Abstract' in paper['MedlineCitation']['Article'].keys():\n",
    "        listOfAbstracts.append(mergeAbstract(paper['MedlineCitation']['Article']['Abstract']['AbstractText']))"
   ]
  },
  {
   "cell_type": "markdown",
   "metadata": {},
   "source": [
    "#### Extract disorders and concepts from Cognitive Atlas:"
   ]
  },
  {
   "cell_type": "code",
   "execution_count": 10,
   "metadata": {
    "collapsed": true
   },
   "outputs": [],
   "source": [
    "from cognitiveatlas.api import get_disorder\n",
    "from cognitiveatlas.api import get_concept"
   ]
  },
  {
   "cell_type": "code",
   "execution_count": 11,
   "metadata": {
    "collapsed": false
   },
   "outputs": [
    {
     "name": "stdout",
     "output_type": "stream",
     "text": [
      "http://cognitiveatlas.org/api/v-alpha/disorder?\n",
      "Result Includes:<pandas:data frame><json:dict><txt:str><url:str>\n"
     ]
    }
   ],
   "source": [
    "disorders_json = get_disorder()"
   ]
  },
  {
   "cell_type": "code",
   "execution_count": 12,
   "metadata": {
    "collapsed": false
   },
   "outputs": [],
   "source": [
    "disorders = [disorder['name'] for disorder in disorders_json.json]"
   ]
  },
  {
   "cell_type": "code",
   "execution_count": 13,
   "metadata": {
    "collapsed": false
   },
   "outputs": [
    {
     "name": "stdout",
     "output_type": "stream",
     "text": [
      "http://cognitiveatlas.org/api/v-alpha/concept?\n",
      "Result Includes:<pandas:data frame><json:dict><txt:str><url:str>\n"
     ]
    }
   ],
   "source": [
    "concepts_json = get_concept()"
   ]
  },
  {
   "cell_type": "code",
   "execution_count": 14,
   "metadata": {
    "collapsed": false
   },
   "outputs": [],
   "source": [
    "concepts = [concept['name'] for concept in concepts_json.json]"
   ]
  },
  {
   "cell_type": "code",
   "execution_count": 15,
   "metadata": {
    "collapsed": true
   },
   "outputs": [],
   "source": [
    "all_terms =  list(set(concepts+disorders))"
   ]
  },
  {
   "cell_type": "markdown",
   "metadata": {},
   "source": [
    "#### Create TF-IDF matrix:"
   ]
  },
  {
   "cell_type": "code",
   "execution_count": 16,
   "metadata": {
    "collapsed": false
   },
   "outputs": [],
   "source": [
    "vect = TfidfVectorizer(ngram_range = (1,2),max_df = 0.99,vocabulary = all_terms)\n",
    "tfidf = vect.fit_transform(listOfAbstracts)"
   ]
  },
  {
   "cell_type": "code",
   "execution_count": 17,
   "metadata": {
    "collapsed": false
   },
   "outputs": [],
   "source": [
    "# Displaying TF-IDF\n",
    "# extracting the tf-idf for the first document\n",
    "row = pd.DataFrame({'tfidf':np.array(tfidf[0,].todense()).flatten()})\n",
    "row.index = vect.get_feature_names()\n",
    "row = row.sort(['tfidf'],ascending=[0])"
   ]
  },
  {
   "cell_type": "code",
   "execution_count": 18,
   "metadata": {
    "collapsed": false
   },
   "outputs": [
    {
     "name": "stdout",
     "output_type": "stream",
     "text": [
      "Abstract:\n",
      "Darier disease is an autosomal dominant skin disorder caused by mutations in the ATPase, Ca++ transporting, cardiac muscle, slow twitch 2 (ATP2A2) gene and previously reported to cosegregate with bipolar disorder and schizophrenia in occasional pedigrees. It is, however, unknown whether these associations exist also in the general population, and the objective of this study was to examine this question.We compared a national sample of individuals with Darier disease and their first-degree relatives with matched unexposed individuals from the general population and their first-degree relatives, respectively. To examine risks for bipolar disorder and schizophrenia, risk ratios and 95% confidence intervals (CIs) were estimated using conditional logistic regressions.Individuals with Darier disease had a 4.3 times higher risk of being diagnosed with bipolar disorder (95% CI: 2.6-7.3) and a 2.3 times higher risk of being diagnosed with schizophrenia (95% CI: 1.1-5.2) than matched individuals from the general population. Relatives of individuals with Darier disease had a 1.6 times higher risk of having bipolar disorder (95% CI: 1.1-2.5) than relatives of matched individuals from the general population, but no increased risk of schizophrenia (risk ratio = 0.8, 95% CI: 0.4-1.8).The association between Darier disease and bipolar disorder is manifest also in the population, and our data suggest that genetic variability within the ATP2A2 gene that causes Darier disease also confers susceptibility for bipolar disorder. The Darier-causing mutations merit additional attention in molecular genetic research on bipolar disorder.\n"
     ]
    }
   ],
   "source": [
    "print('Abstract:')\n",
    "print(listOfAbstracts[0])"
   ]
  },
  {
   "cell_type": "markdown",
   "metadata": {},
   "source": [
    "Tf-idf for first this abstract:"
   ]
  },
  {
   "cell_type": "code",
   "execution_count": 19,
   "metadata": {
    "collapsed": false,
    "scrolled": true
   },
   "outputs": [
    {
     "name": "stdout",
     "output_type": "stream",
     "text": [
      "bipolar disorder    0.597067\n",
      "schizophrenia       0.566177\n",
      "risk                0.541873\n",
      "attention           0.125239\n",
      "association         0.116805\n",
      "Name: tfidf, dtype: float64\n"
     ]
    }
   ],
   "source": [
    "print(row.tfidf[row.tfidf>0.1])"
   ]
  },
  {
   "cell_type": "code",
   "execution_count": null,
   "metadata": {
    "collapsed": false
   },
   "outputs": [],
   "source": []
  },
  {
   "cell_type": "markdown",
   "metadata": {},
   "source": [
    "#### Non-negative Matrix Factorization:"
   ]
  },
  {
   "cell_type": "code",
   "execution_count": 20,
   "metadata": {
    "collapsed": true
   },
   "outputs": [],
   "source": [
    "num_topics = 2\n",
    "num_top_words = 10\n",
    "nmf = decomposition.NMF(n_components=num_topics, random_state=1)\n",
    "doctopic = nmf.fit_transform(tfidf)\n",
    "topic_words = []\n",
    "vocab = np.array(vect.get_feature_names())"
   ]
  },
  {
   "cell_type": "code",
   "execution_count": 21,
   "metadata": {
    "collapsed": false
   },
   "outputs": [],
   "source": [
    "for topic in nmf.components_:\n",
    "    word_idx = np.argsort(topic)[::-1][0:num_top_words]\n",
    "    topic_words.append([vocab[i] for i in word_idx])"
   ]
  },
  {
   "cell_type": "code",
   "execution_count": 22,
   "metadata": {
    "collapsed": false
   },
   "outputs": [],
   "source": [
    "from IPython.display import display"
   ]
  },
  {
   "cell_type": "code",
   "execution_count": 23,
   "metadata": {
    "collapsed": false
   },
   "outputs": [],
   "source": [
    "colnames = ['Topic '+str(i) for i in np.arange(num_topics)+1]"
   ]
  },
  {
   "cell_type": "code",
   "execution_count": 24,
   "metadata": {
    "collapsed": false
   },
   "outputs": [
    {
     "data": {
      "text/html": [
       "<div>\n",
       "<table border=\"1\" class=\"dataframe\">\n",
       "  <thead>\n",
       "    <tr style=\"text-align: right;\">\n",
       "      <th></th>\n",
       "      <th>Topic 1</th>\n",
       "      <th>Topic 2</th>\n",
       "    </tr>\n",
       "  </thead>\n",
       "  <tbody>\n",
       "    <tr>\n",
       "      <th>0</th>\n",
       "      <td>bipolar disorder</td>\n",
       "      <td>sleep</td>\n",
       "    </tr>\n",
       "    <tr>\n",
       "      <th>1</th>\n",
       "      <td>risk</td>\n",
       "      <td>movement</td>\n",
       "    </tr>\n",
       "    <tr>\n",
       "      <th>2</th>\n",
       "      <td>mood</td>\n",
       "      <td>risk</td>\n",
       "    </tr>\n",
       "    <tr>\n",
       "      <th>3</th>\n",
       "      <td>schizophrenia</td>\n",
       "      <td>dementia</td>\n",
       "    </tr>\n",
       "    <tr>\n",
       "      <th>4</th>\n",
       "      <td>association</td>\n",
       "      <td>association</td>\n",
       "    </tr>\n",
       "    <tr>\n",
       "      <th>5</th>\n",
       "      <td>anxiety</td>\n",
       "      <td>dream</td>\n",
       "    </tr>\n",
       "    <tr>\n",
       "      <th>6</th>\n",
       "      <td>attention</td>\n",
       "      <td>loss</td>\n",
       "    </tr>\n",
       "    <tr>\n",
       "      <th>7</th>\n",
       "      <td>psychosis</td>\n",
       "      <td>sleep disorder</td>\n",
       "    </tr>\n",
       "    <tr>\n",
       "      <th>8</th>\n",
       "      <td>mood disorder</td>\n",
       "      <td>anxiety</td>\n",
       "    </tr>\n",
       "    <tr>\n",
       "      <th>9</th>\n",
       "      <td>stress</td>\n",
       "      <td>fatigue</td>\n",
       "    </tr>\n",
       "  </tbody>\n",
       "</table>\n",
       "</div>"
      ],
      "text/plain": [
       "            Topic 1         Topic 2\n",
       "0  bipolar disorder           sleep\n",
       "1              risk        movement\n",
       "2              mood            risk\n",
       "3     schizophrenia        dementia\n",
       "4       association     association\n",
       "5           anxiety           dream\n",
       "6         attention            loss\n",
       "7         psychosis  sleep disorder\n",
       "8     mood disorder         anxiety\n",
       "9            stress         fatigue"
      ]
     },
     "metadata": {},
     "output_type": "display_data"
    }
   ],
   "source": [
    "display(pd.DataFrame(topic_words,index = colnames).transpose())"
   ]
  },
  {
   "cell_type": "markdown",
   "metadata": {},
   "source": [
    "#### Graph Visualization:"
   ]
  },
  {
   "cell_type": "code",
   "execution_count": 25,
   "metadata": {
    "collapsed": false
   },
   "outputs": [],
   "source": [
    "import pyLDAvis"
   ]
  },
  {
   "cell_type": "code",
   "execution_count": null,
   "metadata": {
    "collapsed": false
   },
   "outputs": [],
   "source": []
  },
  {
   "cell_type": "code",
   "execution_count": null,
   "metadata": {
    "collapsed": false
   },
   "outputs": [],
   "source": []
  },
  {
   "cell_type": "code",
   "execution_count": null,
   "metadata": {
    "collapsed": false
   },
   "outputs": [],
   "source": []
  },
  {
   "cell_type": "code",
   "execution_count": null,
   "metadata": {
    "collapsed": false
   },
   "outputs": [],
   "source": []
  },
  {
   "cell_type": "code",
   "execution_count": null,
   "metadata": {
    "collapsed": false
   },
   "outputs": [],
   "source": [
    "import networkx as nx"
   ]
  },
  {
   "cell_type": "code",
   "execution_count": null,
   "metadata": {
    "collapsed": false
   },
   "outputs": [],
   "source": [
    "# create association graph:\n",
    "A = tfidf.T*tfidf"
   ]
  },
  {
   "cell_type": "code",
   "execution_count": null,
   "metadata": {
    "collapsed": false
   },
   "outputs": [],
   "source": [
    "a = nx.Graph(A)\n",
    "pos = nx.circular_layout(a)\n",
    "#nx.draw_circular(a)\n",
    "#nx.draw(a,pos = pos)\n",
    "nx.draw(a,pos = pos)"
   ]
  },
  {
   "cell_type": "code",
   "execution_count": null,
   "metadata": {
    "collapsed": false
   },
   "outputs": [],
   "source": []
  },
  {
   "cell_type": "code",
   "execution_count": null,
   "metadata": {
    "collapsed": true
   },
   "outputs": [],
   "source": []
  }
 ],
 "metadata": {
  "kernelspec": {
   "display_name": "Python 2",
   "language": "python",
   "name": "python2"
  },
  "language_info": {
   "codemirror_mode": {
    "name": "ipython",
    "version": 2
   },
   "file_extension": ".py",
   "mimetype": "text/x-python",
   "name": "python",
   "nbconvert_exporter": "python",
   "pygments_lexer": "ipython2",
   "version": "2.7.9"
  }
 },
 "nbformat": 4,
 "nbformat_minor": 0
}
